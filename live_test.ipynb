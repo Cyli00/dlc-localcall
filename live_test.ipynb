{
 "cells": [
  {
   "cell_type": "code",
   "execution_count": 23,
   "id": "9324c2dc",
   "metadata": {},
   "outputs": [],
   "source": [
    "import os\n",
    "os.environ['TF_CPP_MIN_LOG_LEVEL'] = '2'  # 屏蔽info和warning,保留error\n",
    "\n",
    "import tensorflow as tf\n",
    "# 禁用tf_cudnn自动调优,防止输出不稳定\n",
    "if \"TF_CUDNN_USE_AUTOTUNE\" in os.environ:\n",
    "    del os.environ[\"TF_CUDNN_USE_AUTOTUNE\"]\n",
    "# 获取可用的gpu列表\n",
    "gpus = tf.config.experimental.list_physical_devices('GPU')\n",
    "\n",
    "import cv2\n",
    "import numpy as np\n",
    "from skimage.util import img_as_ubyte\n",
    "\n",
    "from deeplabcut.pose_estimation_tensorflow.config import load_config\n",
    "from deeplabcut.pose_estimation_tensorflow.core import predict\n",
    "from deeplabcut.pose_estimation_tensorflow.util import visualize\n",
    "\n",
    "from utils.mockcamera import virtualcamera, select_extract_roi\n",
    "from utils.uidisplay import displayedparts, plot_distance\n"
   ]
  },
  {
   "cell_type": "code",
   "execution_count": 2,
   "id": "2591de98",
   "metadata": {},
   "outputs": [
    {
     "name": "stdout",
     "output_type": "stream",
     "text": [
      "Video loaded - FPS: 29.84, target FPS: 30\n",
      "Select a ROI and then press SPACE or ENTER button!\n",
      "Cancel the selection process by pressing c button!\n",
      "ROI selected: x=281, y=350, w=264, h=201\n",
      "INFO:tensorflow:Restoring parameters from /home/cyli00/gitProjects/dlc-localcall/pupil_resnet/snapshot-650000\n"
     ]
    },
    {
     "name": "stderr",
     "output_type": "stream",
     "text": [
      "INFO:tensorflow:Restoring parameters from /home/cyli00/gitProjects/dlc-localcall/pupil_resnet/snapshot-650000\n"
     ]
    }
   ],
   "source": [
    "# 配置路径\n",
    "config_path = \"/home/cyli00/gitProjects/dlc-localcall/pupil_resnet/pose_cfg.yaml\"\n",
    "video_path = \"/home/cyli00/gitProjects/dlc-localcall/example/pupil.mp4\"\n",
    "\n",
    "# 读取配置\n",
    "cfg = load_config(config_path)\n",
    "\n",
    "# 设置模拟相机\n",
    "vcam = virtualcamera(video_path, loop=True, target_fps=30)\n",
    "# ROI\n",
    "extract_roi = select_extract_roi(video_path)\n",
    "\n",
    "# 设置GPU内存增长\n",
    "if gpus:\n",
    "    try:\n",
    "        for gpu in gpus:\n",
    "            tf.config.experimental.set_memory_growth(gpu, True)\n",
    "    except RuntimeError as e:\n",
    "        print(\"GPU configuration error:\", e)\n",
    "\n",
    "# 初始化TensorFlow会话和模型\n",
    "tf.compat.v1.reset_default_graph()\n",
    "sess, inputs, outputs = predict.setup_GPUpose_prediction(cfg, gpus)\n",
    "pose_tensor = predict.extract_GPUprediction(outputs, cfg)\n",
    "\n",
    "# 选择displayedparts\n",
    "pose_index = displayedparts(cfg)"
   ]
  },
  {
   "cell_type": "code",
   "execution_count": null,
   "id": "df733b1c",
   "metadata": {},
   "outputs": [],
   "source": [
    "# 初始化瞳孔作图所需的变量\n",
    "import matplotlib.pyplot as plt\n",
    "from matplotlib.animation import FuncAnimation\n",
    "\n",
    "fig, ax = plt.subplots(1, 1, figsize=(10, 6))\n",
    "fig.suptitle('Pupil Distance Tracking')\n",
    "dist_buffer = np.empty(30*10)\n",
    "dist = np.empty(1)\n",
    "total_frames = 0\n",
    "\n",
    "# 坐标轴标签\n",
    "ax[0].set_ylabel('水平距离 (像素)')\n",
    "ax[0].set_ylabel('垂直距离 (像素)')\n",
    "ax[0].set_xlabel('时间 (帧)')\n",
    "# 设置y轴范围（根据您的数据范围调整）\n",
    "ax[0].set_ylim(0, 100))  # 示例值"
   ]
  },
  {
   "cell_type": "code",
   "execution_count": null,
   "id": "a62c4ce9",
   "metadata": {},
   "outputs": [],
   "source": [
    "while True:\n",
    "    ret, frame = vcam.read()\n",
    "    if not ret:\n",
    "        print(\"Failed to read frame\")\n",
    "        break\n",
    "    total_frames += 1\n",
    "\n",
    "    # 提取ROI区域\n",
    "    frame = extract_roi(frame)\n",
    "    frame = cv2.cvtColor(frame, cv2.COLOR_BGR2RGB)\n",
    "    frame = img_as_ubyte(frame)\n",
    "\n",
    "    pose = sess.run(\n",
    "        pose_tensor,\n",
    "        feed_dict={inputs: np.expand_dims(frame, axis=0).astype(float)}\n",
    "    )\n",
    "    pose[:, [0, 1, 2]] = pose[:, [1, 0, 2]]\n",
    "\n",
    "    # 只保留需要的行\n",
    "    pose = pose[pose_index]\n",
    "    pose_dis = pose[:, :2]\n",
    "    \n",
    "    # 时间向量和缓存更新\n",
    "    if total\n",
    "    dist_buffer.append(np.linalg.norm(pose_dis[0, 0]-pose_dis[2, 0]), np.linalg.norm(pose_dis[1, 1]-pose_dis[3, 1]))\n",
    "    \n",
    "    # 更新数据\n",
    "    plot_distance(dist, ax, time_vector)\n",
    "    \n",
    "    # ==> pose = predict.getpose(frame, dlc_cfg, sess, inputs, outputs)\n",
    "    visim = visualize.visualize_joints(frame, pose)\n",
    "\n",
    "    # 显示结果\n",
    "    cv2.imshow('DeepLabCut Tracking', visim)\n",
    "\n",
    "    # 添加延时控制\n",
    "    key = cv2.waitKey(1) & 0xFF\n",
    "    if key == ord('q'):\n",
    "        break\n",
    "\n",
    "# 关闭TensorFlow会话\n",
    "sess.close()\n",
    "\n",
    "vcam.release()\n",
    "cv2.destroyAllWindows()\n",
    "\n",
    "print(\"Shutting down...\")\n"
   ]
  }
 ],
 "metadata": {
  "kernelspec": {
   "display_name": "dlc",
   "language": "python",
   "name": "python3"
  },
  "language_info": {
   "codemirror_mode": {
    "name": "ipython",
    "version": 3
   },
   "file_extension": ".py",
   "mimetype": "text/x-python",
   "name": "python",
   "nbconvert_exporter": "python",
   "pygments_lexer": "ipython3",
   "version": "3.10.16"
  }
 },
 "nbformat": 4,
 "nbformat_minor": 5
}
